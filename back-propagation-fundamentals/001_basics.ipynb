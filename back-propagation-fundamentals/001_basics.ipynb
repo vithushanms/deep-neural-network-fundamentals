{
  "cells": [
    {
      "cell_type": "markdown",
      "metadata": {
        "colab_type": "text",
        "id": "view-in-github"
      },
      "source": [
        "<a href=\"https://colab.research.google.com/github/vithushanms/deep-neural-network-fundamentals/blob/main/back%20propagation%20fundamentals/001_basics.ipynb\" target=\"_parent\"><img src=\"https://colab.research.google.com/assets/colab-badge.svg\" alt=\"Open In Colab\"/></a>"
      ]
    },
    {
      "cell_type": "markdown",
      "metadata": {
        "id": "rhRa9O5wFfWJ"
      },
      "source": [
        "# Demonstration of backpropogation - part 01\n",
        "\n",
        "## Intro\n",
        "\n",
        "This project helps to understand the complexity of training neural networks by building an auto grad engine.\n",
        "\n",
        "First of all the credit to this project goes to Andrej Karpathy as most of the examples here were prepared ontop of his lecture on [Neural Networks: Zero to Hero series](https://www.youtube.com/watch?v=VMj-3S1tku0&list=PLAqhIrjkxbuWI23v9cThsA9GvCAUhRvKZ&index=2)  in youtube"
      ]
    },
    {
      "cell_type": "markdown",
      "metadata": {
        "id": "AS1XjxmUGu37"
      },
      "source": [
        "## Imports"
      ]
    },
    {
      "cell_type": "code",
      "execution_count": 1,
      "metadata": {
        "id": "FUkcyE5tE-JS"
      },
      "outputs": [],
      "source": [
        "import math\n",
        "import numpy as np\n",
        "import matplotlib.pyplot as plt\n",
        "%matplotlib inline\n",
        "from graphviz import Digraph"
      ]
    },
    {
      "cell_type": "markdown",
      "metadata": {
        "id": "H7QpIG7AGKC0"
      },
      "source": [
        "## Grad\n",
        "\n",
        "The deffinition: a gradiant explains how the impact of a small nudge in the input with regards to outcome of final mathematical functions\n",
        "\n",
        "### Derivatives vs. Gradients: The Key Difference\n",
        "You're right to be confused - they're closely related! Let me clarify the difference:\n",
        "\n",
        "#### Derivative (One-Dimensional)\n",
        "A derivative applies to a function with a single input variable:\n",
        "For a function f(x), the derivative f'(x) tells you the rate of change at point x\n",
        "It's a single number (a scalar)\n",
        "\n",
        "Example: If f(x) = x², then f'(x) = 2x\n",
        "\n",
        "#### Gradient (Multi-Dimensional)\n",
        "A gradient applies to a function with multiple input variables:\n",
        "For a function f(x, y, z), the gradient ∇f is a vector containing all partial derivatives\n",
        "It has one component for each input variable: ∇f = [∂f/∂x, ∂f/∂y, ∂f/∂z]\n",
        "It's a vector, not just a single number\n",
        "\n",
        "Example: If f(x,y) = x² + y², then ∇f = [2x, 2y]\n",
        "\n",
        "### Let's understand the derivative of $x^2$\n",
        "\n",
        "Let's explore why the derivative of $x^2$ is $(2x)$. The derivative represents the rate of change of a function, and we'll derive this result step-by-step using the definition of the derivative, then explain it intuitively.\n",
        "\n",
        "Using the Definition of the Derivative\n",
        "The derivative of a function $f(x)$ at a point $(x)$ is defined as:\n",
        "$f'(x) = \\lim_{h \\to 0} \\frac{f(x + h) - f(x)}{h}$\n",
        "\n",
        "For $f(x) = x^2$, we need to compute:\n",
        "$f'(x) = \\lim_{h \\to 0} \\frac{(x + h)^2 - x^2}{h}$\n",
        "\n",
        "Step 1: Expand $f(x+h)$\n",
        "\n",
        "First, expand $(x+h)^2$. As we determined earlier:\n",
        "$(x + h)^2 = x^2 + 2xh + h^2$\n",
        "\n",
        "So:\n",
        "$f(x + h) = (x + h)^2 = x^2 + 2xh + h^2$\n",
        "\n",
        "Step 2: Substitute into the Limit\n",
        "Now plug this into the derivative formula:\n",
        "$f'(x) = \\lim_{h \\to 0} \\frac{(x^2 + 2xh + h^2) - x^2}{h}$\n",
        "\n",
        "Step 3: Simplify the Numerator\n",
        "Subtract $x^2$ from $x^2 + 2xh + h^2$:\n",
        "$x^2 + 2xh + h^2 - x^2 = 2xh + h^2$\n",
        "\n",
        "The $x^2$ terms cancel out, leaving:\n",
        "$f'(x) = \\lim_{h \\to 0} \\frac{2xh + h^2}{h}$\n",
        "\n",
        "Step 4: Factor and Simplify\n",
        "Factor $(h)$ out of the numerator:\n",
        "$2xh + h^2 = h(2x + h)$\n",
        "\n",
        "So the expression becomes:\n",
        "$f'(x) = \\lim_{h \\to 0} \\frac{h(2x + h)}{h}$\n",
        "\n",
        "Since $h \\neq 0$ in the fraction (we're taking the limit as $(h)$ approaches 0, not equaling 0), we can cancel the $(h)$ terms:\n",
        "$f'(x) = \\lim_{h \\to 0} (2x + h)$\n",
        "\n",
        "Step 5: Evaluate the Limit\n",
        "As $(h)$ approaches 0, $2x + h$ becomes $2x + 0 = 2x$:\n",
        "$f'(x) = 2x$\n",
        "\n",
        "Thus, the derivative of $x^2$ is $(2x)$."
      ]
    },
    {
      "cell_type": "code",
      "execution_count": 6,
      "metadata": {
        "id": "04MZ-DTzGdjl"
      },
      "outputs": [],
      "source": [
        "def f(x):\n",
        "  return 3*x**2 - 4*x + 5"
      ]
    },
    {
      "cell_type": "code",
      "execution_count": 7,
      "metadata": {
        "colab": {
          "base_uri": "https://localhost:8080/"
        },
        "id": "gqgSfnH-G_Fj",
        "outputId": "aee106e3-8324-4c14-8642-6696ee1481f4"
      },
      "outputs": [
        {
          "data": {
            "text/plain": [
              "265"
            ]
          },
          "execution_count": 7,
          "metadata": {},
          "output_type": "execute_result"
        }
      ],
      "source": [
        "f(10)"
      ]
    },
    {
      "cell_type": "code",
      "execution_count": 8,
      "metadata": {
        "colab": {
          "base_uri": "https://localhost:8080/",
          "height": 446
        },
        "id": "utFfKX5_HF_h",
        "outputId": "52874d7d-e1cf-4371-86cc-dbea4afd8d08"
      },
      "outputs": [
        {
          "data": {
            "text/plain": [
              "[<matplotlib.lines.Line2D at 0x10e5b7980>]"
            ]
          },
          "execution_count": 8,
          "metadata": {},
          "output_type": "execute_result"
        },
        {
          "data": {
            "image/png": "[encoded data removed]",
            "text/plain": [
              "<Figure size 640x480 with 1 Axes>"
            ]
          },
          "metadata": {},
          "output_type": "display_data"
        }
      ],
      "source": [
        "xs = np.arange(-5, 5, 0.25)\n",
        "ys = f(xs)\n",
        "plt.plot(xs, ys)"
      ]
    },
    {
      "cell_type": "code",
      "execution_count": 9,
      "metadata": {
        "colab": {
          "base_uri": "https://localhost:8080/"
        },
        "id": "Gsqj4WZ-HQeG",
        "outputId": "1af035f8-820f-45f9-a1ab-c0baaacdd9e8"
      },
      "outputs": [
        {
          "data": {
            "text/plain": [
              "20.00000000000001"
            ]
          },
          "execution_count": 9,
          "metadata": {},
          "output_type": "execute_result"
        }
      ],
      "source": [
        "x = 3.000\n",
        "h = 0.000000000000001\n",
        "f(x + h)"
      ]
    },
    {
      "cell_type": "markdown",
      "metadata": {
        "id": "jLB6bUye2O97"
      },
      "source": [
        "As a limit\n",
        "the function of a real variable\n",
        "f\n",
        "(\n",
        "x\n",
        ") is differentiable at a point\n",
        "a of its domain, if its domain contains an open interval containing\n",
        "a, and the limit\n",
        "\n",
        "Limit(h -> 0) {(f(a+h) - f(a)) / h}\n"
      ]
    },
    {
      "cell_type": "code",
      "execution_count": 11,
      "metadata": {
        "colab": {
          "base_uri": "https://localhost:8080/"
        },
        "id": "49uFSPId049-",
        "outputId": "8b7ddf1b-606b-4fa4-8760-89d6a3ebedbc"
      },
      "outputs": [
        {
          "data": {
            "text/plain": [
              "1.5000000000000014e+16"
            ]
          },
          "execution_count": 11,
          "metadata": {},
          "output_type": "execute_result"
        }
      ],
      "source": [
        "(f(x+h) - f(h)) / h"
      ]
    },
    {
      "cell_type": "markdown",
      "metadata": {
        "id": "PgUvOwrNBjUr"
      },
      "source": [
        "### Example 01"
      ]
    },
    {
      "cell_type": "markdown",
      "metadata": {
        "id": "L0n2ewaQCVRM"
      },
      "source": [
        "When h = 1, the difference between d1 and d2 is going to be -3 because the derivative of the function with respect to a is b, which equals -3.\n",
        "\n",
        "Also, the slop is going to be - 3 irrespective of the value of h as it's a linear function."
      ]
    },
    {
      "cell_type": "code",
      "execution_count": 18,
      "metadata": {
        "colab": {
          "base_uri": "https://localhost:8080/"
        },
        "id": "C82a2EkV9Dhw",
        "outputId": "537b876c-8a57-416e-ab62-d7a342b0bf41"
      },
      "outputs": [
        {
          "name": "stdout",
          "output_type": "stream",
          "text": [
            "d1 7.0\n",
            "d2 4.0\n",
            "slope -3.0\n"
          ]
        }
      ],
      "source": [
        "h = 1\n",
        "\n",
        "a = 1.0\n",
        "b = -3.0\n",
        "c = 10\n",
        "\n",
        "d1 = a*b + c\n",
        "a = a + h\n",
        "d2 = a*b + c\n",
        "\n",
        "print('d1', d1)\n",
        "print('d2', d2)\n",
        "print('slope', (d2 - d1) / h)"
      ]
    },
    {
      "cell_type": "markdown",
      "metadata": {
        "id": "VWSHJ6dQDOJv"
      },
      "source": [
        "# Autograd Engine"
      ]
    },
    {
      "cell_type": "markdown",
      "metadata": {
        "id": "BssrifXt3uXD"
      },
      "source": [
        "Now let's build an autograd engine from the scratch. here to start with, we are using object representaion of values, which would alove us to store information such as previous node, next node, operations used throughout the mathematical operations, etc.\n",
        "\n",
        "Eventually, we will visualize this to understand the contributions from inputs and intermediate states on the end result of a complex mathematical expression"
      ]
    },
    {
      "cell_type": "markdown",
      "metadata": {
        "id": "xOMbJwjXD8UD"
      },
      "source": [
        "### Class for a solo value node"
      ]
    },
    {
      "cell_type": "code",
      "execution_count": 56,
      "metadata": {
        "id": "7fwooqYQB3K8"
      },
      "outputs": [],
      "source": [
        "class Value:\n",
        "  def __init__(self, data, _children=(), _op=(), label = ''):\n",
        "    self.data = data\n",
        "    self.prev = set(_children)\n",
        "    self.grad = 0.0\n",
        "    self._op = _op\n",
        "    self.label = label\n",
        "\n",
        "  def __repr__(self):\n",
        "    return f\"Value(data={self.data})\"\n",
        "\n",
        "  def __add__(self, other):\n",
        "    other = other if isinstance(other, Value) else Value(other)\n",
        "    return Value(self.data + other.data, (self, other), '+')\n",
        "\n",
        "  def __mul__(self, other):\n",
        "    other = other if isinstance(other, Value) else Value(other)\n",
        "    return Value(self.data * other.data, (self, other), 'x')\n",
        "  \n",
        "  def __sub__(self, other):\n",
        "    other = other if isinstance(other, Value) else Value(other)\n",
        "    return Value(self.data - other.data, (self, other), '-')\n",
        "  \n",
        "  def __truediv__(self, other):\n",
        "    other = other if isinstance(other, Value) else Value(other)\n",
        "    return Value(self.data / other.data, (self, other), '/')\n",
        "  \n",
        "\n",
        "    "
      ]
    },
    {
      "cell_type": "code",
      "execution_count": 52,
      "metadata": {
        "colab": {
          "base_uri": "https://localhost:8080/"
        },
        "id": "8MloAIyDD2AA",
        "outputId": "3c8efe21-4d65-4862-cf58-bd66984d6ddd"
      },
      "outputs": [
        {
          "data": {
            "text/plain": [
              "Value(data=-8.0)"
            ]
          },
          "execution_count": 52,
          "metadata": {},
          "output_type": "execute_result"
        }
      ],
      "source": [
        "a = Value(2.0, label='a')\n",
        "b = Value(-3.0, label='b')\n",
        "c = Value(10.0, label='c')\n",
        "e = a*b; e.label = 'e'\n",
        "d = e + c; d.label = 'd'\n",
        "f = Value(-2.0, label='f')\n",
        "L = d * f; L.label = 'L'\n",
        "L"
      ]
    },
    {
      "cell_type": "markdown",
      "metadata": {
        "id": "Qj5SLVCcEy9v"
      },
      "source": [
        "### Visualization of value nodes"
      ]
    },
    {
      "cell_type": "code",
      "execution_count": 53,
      "metadata": {
        "id": "pku3V5TUD45n"
      },
      "outputs": [],
      "source": [
        "def trace (root):\n",
        "  nodes, edges = set(), set()\n",
        "  def build(v):\n",
        "    if v not in nodes:\n",
        "      nodes.add(v)\n",
        "      for child in v.prev:\n",
        "        edges.add((child, v))\n",
        "        build(child)\n",
        "  build(root)\n",
        "  return nodes, edges\n",
        "\n",
        "def draw_dot(root):\n",
        "  dot = Digraph(format='svg', graph_attr={'rankdir': 'LR'}) # LR = left to right\n",
        "\n",
        "  nodes, edges = trace(root)\n",
        "  for n in nodes:\n",
        "    uid = str(id(n))\n",
        "    # for any value in the graph\n",
        "    dot.node(name = uid, label = \"{ %s | data %.4f | grad %.4f }\" % (n.label, n.data, n.grad), shape='record')\n",
        "    if n._op:\n",
        "      # if this value is a result of some operation\n",
        "      dot.node(name = uid + n._op, label = n._op)\n",
        "      # and connect this node to it\n",
        "      dot.edge(uid + n._op, uid)\n",
        "\n",
        "  for n1, n2 in edges:\n",
        "    # connect n1 to the op node of n2\n",
        "    dot.edge(str(id(n1)), str(id(n2)) + n2._op)\n",
        "\n",
        "  return dot\n"
      ]
    },
    {
      "cell_type": "markdown",
      "metadata": {
        "id": "F3-DbK2J6Dpl"
      },
      "source": [
        "Here we are trying to visualize the whole forward propogation (aka forward pass)"
      ]
    },
    {
      "cell_type": "code",
      "execution_count": 54,
      "metadata": {
        "colab": {
          "base_uri": "https://localhost:8080/",
          "height": 250
        },
        "id": "FTz-wRiAEdDN",
        "outputId": "6b5a3375-e968-43d4-a0c2-50a4f44beb1b"
      },
      "outputs": [
        {
          "data": {
            "image/svg+xml": [
              "<?xml version=\"1.0\" encoding=\"UTF-8\" standalone=\"no\"?>\n",
              "<!DOCTYPE svg PUBLIC \"-//W3C//DTD SVG 1.1//EN\"\n",
              " \"http://www.w3.org/Graphics/SVG/1.1/DTD/svg11.dtd\">\n",
              "<!-- Generated by graphviz version 12.2.1 (20241206.2353)\n",
              " -->\n",
              "<!-- Pages: 1 -->\n",
              "<svg width=\"1140pt\" height=\"128pt\"\n",
              " viewBox=\"0.00 0.00 1139.75 128.00\" xmlns=\"http://www.w3.org/2000/svg\" xmlns:xlink=\"http://www.w3.org/1999/xlink\">\n",
              "<g id=\"graph0\" class=\"graph\" transform=\"scale(1 1) rotate(0) translate(4 124)\">\n",
              "<polygon fill=\"white\" stroke=\"none\" points=\"-4,4 -4,-124 1135.75,-124 1135.75,4 -4,4\"/>\n",
              "<!-- 4537709104 -->\n",
              "<g id=\"node1\" class=\"node\">\n",
              "<title>4537709104</title>\n",
              "<polygon fill=\"none\" stroke=\"black\" points=\"631.12,-27.5 631.12,-63.5 814.88,-63.5 814.88,-27.5 631.12,-27.5\"/>\n",
              "<text text-anchor=\"middle\" x=\"642.5\" y=\"-40.7\" font-family=\"Times,serif\" font-size=\"14.00\">d</text>\n",
              "<polyline fill=\"none\" stroke=\"black\" points=\"653.88,-28 653.88,-63.5\"/>\n",
              "<text text-anchor=\"middle\" x=\"693.75\" y=\"-40.7\" font-family=\"Times,serif\" font-size=\"14.00\">data 4.0000</text>\n",
              "<polyline fill=\"none\" stroke=\"black\" points=\"733.62,-28 733.62,-63.5\"/>\n",
              "<text text-anchor=\"middle\" x=\"774.25\" y=\"-40.7\" font-family=\"Times,serif\" font-size=\"14.00\">grad 0.0000</text>\n",
              "</g>\n",
              "<!-- 4537701328x -->\n",
              "<g id=\"node8\" class=\"node\">\n",
              "<title>4537701328x</title>\n",
              "<ellipse fill=\"none\" stroke=\"black\" cx=\"879\" cy=\"-72.5\" rx=\"27\" ry=\"18\"/>\n",
              "<text text-anchor=\"middle\" x=\"879\" y=\"-67.45\" font-family=\"Times,serif\" font-size=\"14.00\">x</text>\n",
              "</g>\n",
              "<!-- 4537709104&#45;&gt;4537701328x -->\n",
              "<g id=\"edge5\" class=\"edge\">\n",
              "<title>4537709104&#45;&gt;4537701328x</title>\n",
              "<path fill=\"none\" stroke=\"black\" d=\"M815.36,-61.52C824.5,-63.12 833.36,-64.67 841.4,-66.08\"/>\n",
              "<polygon fill=\"black\" stroke=\"black\" points=\"840.58,-69.49 851.04,-67.77 841.79,-62.6 840.58,-69.49\"/>\n",
              "</g>\n",
              "<!-- 4537709104+ -->\n",
              "<g id=\"node2\" class=\"node\">\n",
              "<title>4537709104+</title>\n",
              "<ellipse fill=\"none\" stroke=\"black\" cx=\"567\" cy=\"-45.5\" rx=\"27\" ry=\"18\"/>\n",
              "<text text-anchor=\"middle\" x=\"567\" y=\"-40.45\" font-family=\"Times,serif\" font-size=\"14.00\">+</text>\n",
              "</g>\n",
              "<!-- 4537709104+&#45;&gt;4537709104 -->\n",
              "<g id=\"edge1\" class=\"edge\">\n",
              "<title>4537709104+&#45;&gt;4537709104</title>\n",
              "<path fill=\"none\" stroke=\"black\" d=\"M594.47,-45.5C601.87,-45.5 610.38,-45.5 619.43,-45.5\"/>\n",
              "<polygon fill=\"black\" stroke=\"black\" points=\"619.17,-49 629.17,-45.5 619.17,-42 619.17,-49\"/>\n",
              "</g>\n",
              "<!-- 4537697488 -->\n",
              "<g id=\"node3\" class=\"node\">\n",
              "<title>4537697488</title>\n",
              "<polygon fill=\"none\" stroke=\"black\" points=\"2.62,-83.5 2.62,-119.5 185.62,-119.5 185.62,-83.5 2.62,-83.5\"/>\n",
              "<text text-anchor=\"middle\" x=\"13.62\" y=\"-96.7\" font-family=\"Times,serif\" font-size=\"14.00\">a</text>\n",
              "<polyline fill=\"none\" stroke=\"black\" points=\"24.62,-84 24.62,-119.5\"/>\n",
              "<text text-anchor=\"middle\" x=\"64.5\" y=\"-96.7\" font-family=\"Times,serif\" font-size=\"14.00\">data 2.0000</text>\n",
              "<polyline fill=\"none\" stroke=\"black\" points=\"104.38,-84 104.38,-119.5\"/>\n",
              "<text text-anchor=\"middle\" x=\"145\" y=\"-96.7\" font-family=\"Times,serif\" font-size=\"14.00\">grad 0.0000</text>\n",
              "</g>\n",
              "<!-- 4537701616x -->\n",
              "<g id=\"node5\" class=\"node\">\n",
              "<title>4537701616x</title>\n",
              "<ellipse fill=\"none\" stroke=\"black\" cx=\"251.25\" cy=\"-73.5\" rx=\"27\" ry=\"18\"/>\n",
              "<text text-anchor=\"middle\" x=\"251.25\" y=\"-68.45\" font-family=\"Times,serif\" font-size=\"14.00\">x</text>\n",
              "</g>\n",
              "<!-- 4537697488&#45;&gt;4537701616x -->\n",
              "<g id=\"edge4\" class=\"edge\">\n",
              "<title>4537697488&#45;&gt;4537701616x</title>\n",
              "<path fill=\"none\" stroke=\"black\" d=\"M185.81,-85.13C195.66,-83.35 205.21,-81.63 213.82,-80.08\"/>\n",
              "<polygon fill=\"black\" stroke=\"black\" points=\"214.19,-83.57 223.41,-78.34 212.95,-76.68 214.19,-83.57\"/>\n",
              "</g>\n",
              "<!-- 4537701616 -->\n",
              "<g id=\"node4\" class=\"node\">\n",
              "<title>4537701616</title>\n",
              "<polygon fill=\"none\" stroke=\"black\" points=\"315.38,-55.5 315.38,-91.5 502.88,-91.5 502.88,-55.5 315.38,-55.5\"/>\n",
              "<text text-anchor=\"middle\" x=\"326.38\" y=\"-68.7\" font-family=\"Times,serif\" font-size=\"14.00\">e</text>\n",
              "<polyline fill=\"none\" stroke=\"black\" points=\"337.38,-56 337.38,-91.5\"/>\n",
              "<text text-anchor=\"middle\" x=\"379.5\" y=\"-68.7\" font-family=\"Times,serif\" font-size=\"14.00\">data &#45;6.0000</text>\n",
              "<polyline fill=\"none\" stroke=\"black\" points=\"421.62,-56 421.62,-91.5\"/>\n",
              "<text text-anchor=\"middle\" x=\"462.25\" y=\"-68.7\" font-family=\"Times,serif\" font-size=\"14.00\">grad 0.0000</text>\n",
              "</g>\n",
              "<!-- 4537701616&#45;&gt;4537709104+ -->\n",
              "<g id=\"edge6\" class=\"edge\">\n",
              "<title>4537701616&#45;&gt;4537709104+</title>\n",
              "<path fill=\"none\" stroke=\"black\" d=\"M503.05,-56.81C512.25,-55.16 521.16,-53.56 529.24,-52.1\"/>\n",
              "<polygon fill=\"black\" stroke=\"black\" points=\"529.71,-55.58 538.93,-50.36 528.47,-48.69 529.71,-55.58\"/>\n",
              "</g>\n",
              "<!-- 4537701616x&#45;&gt;4537701616 -->\n",
              "<g id=\"edge2\" class=\"edge\">\n",
              "<title>4537701616x&#45;&gt;4537701616</title>\n",
              "<path fill=\"none\" stroke=\"black\" d=\"M278.69,-73.5C286.1,-73.5 294.64,-73.5 303.71,-73.5\"/>\n",
              "<polygon fill=\"black\" stroke=\"black\" points=\"303.51,-77 313.51,-73.5 303.51,-70 303.51,-77\"/>\n",
              "</g>\n",
              "<!-- 4537697536 -->\n",
              "<g id=\"node6\" class=\"node\">\n",
              "<title>4537697536</title>\n",
              "<polygon fill=\"none\" stroke=\"black\" points=\"0,-28.5 0,-64.5 188.25,-64.5 188.25,-28.5 0,-28.5\"/>\n",
              "<text text-anchor=\"middle\" x=\"11.38\" y=\"-41.7\" font-family=\"Times,serif\" font-size=\"14.00\">b</text>\n",
              "<polyline fill=\"none\" stroke=\"black\" points=\"22.75,-29 22.75,-64.5\"/>\n",
              "<text text-anchor=\"middle\" x=\"64.88\" y=\"-41.7\" font-family=\"Times,serif\" font-size=\"14.00\">data &#45;3.0000</text>\n",
              "<polyline fill=\"none\" stroke=\"black\" points=\"107,-29 107,-64.5\"/>\n",
              "<text text-anchor=\"middle\" x=\"147.62\" y=\"-41.7\" font-family=\"Times,serif\" font-size=\"14.00\">grad 0.0000</text>\n",
              "</g>\n",
              "<!-- 4537697536&#45;&gt;4537701616x -->\n",
              "<g id=\"edge9\" class=\"edge\">\n",
              "<title>4537697536&#45;&gt;4537701616x</title>\n",
              "<path fill=\"none\" stroke=\"black\" d=\"M188.49,-62.75C197.27,-64.28 205.77,-65.76 213.51,-67.1\"/>\n",
              "<polygon fill=\"black\" stroke=\"black\" points=\"212.66,-70.51 223.11,-68.78 213.86,-63.61 212.66,-70.51\"/>\n",
              "</g>\n",
              "<!-- 4537701328 -->\n",
              "<g id=\"node7\" class=\"node\">\n",
              "<title>4537701328</title>\n",
              "<polygon fill=\"none\" stroke=\"black\" points=\"942,-54.5 942,-90.5 1131.75,-90.5 1131.75,-54.5 942,-54.5\"/>\n",
              "<text text-anchor=\"middle\" x=\"954.12\" y=\"-67.7\" font-family=\"Times,serif\" font-size=\"14.00\">L</text>\n",
              "<polyline fill=\"none\" stroke=\"black\" points=\"966.25,-55 966.25,-90.5\"/>\n",
              "<text text-anchor=\"middle\" x=\"1008.38\" y=\"-67.7\" font-family=\"Times,serif\" font-size=\"14.00\">data &#45;8.0000</text>\n",
              "<polyline fill=\"none\" stroke=\"black\" points=\"1050.5,-55 1050.5,-90.5\"/>\n",
              "<text text-anchor=\"middle\" x=\"1091.12\" y=\"-67.7\" font-family=\"Times,serif\" font-size=\"14.00\">grad 0.0000</text>\n",
              "</g>\n",
              "<!-- 4537701328x&#45;&gt;4537701328 -->\n",
              "<g id=\"edge3\" class=\"edge\">\n",
              "<title>4537701328x&#45;&gt;4537701328</title>\n",
              "<path fill=\"none\" stroke=\"black\" d=\"M906.44,-72.5C913.59,-72.5 921.78,-72.5 930.49,-72.5\"/>\n",
              "<polygon fill=\"black\" stroke=\"black\" points=\"930.26,-76 940.26,-72.5 930.26,-69 930.26,-76\"/>\n",
              "</g>\n",
              "<!-- 4537696720 -->\n",
              "<g id=\"node9\" class=\"node\">\n",
              "<title>4537696720</title>\n",
              "<polygon fill=\"none\" stroke=\"black\" points=\"314.25,-0.5 314.25,-36.5 504,-36.5 504,-0.5 314.25,-0.5\"/>\n",
              "<text text-anchor=\"middle\" x=\"325.25\" y=\"-13.7\" font-family=\"Times,serif\" font-size=\"14.00\">c</text>\n",
              "<polyline fill=\"none\" stroke=\"black\" points=\"336.25,-1 336.25,-36.5\"/>\n",
              "<text text-anchor=\"middle\" x=\"379.5\" y=\"-13.7\" font-family=\"Times,serif\" font-size=\"14.00\">data 10.0000</text>\n",
              "<polyline fill=\"none\" stroke=\"black\" points=\"422.75,-1 422.75,-36.5\"/>\n",
              "<text text-anchor=\"middle\" x=\"463.38\" y=\"-13.7\" font-family=\"Times,serif\" font-size=\"14.00\">grad 0.0000</text>\n",
              "</g>\n",
              "<!-- 4537696720&#45;&gt;4537709104+ -->\n",
              "<g id=\"edge7\" class=\"edge\">\n",
              "<title>4537696720&#45;&gt;4537709104+</title>\n",
              "<path fill=\"none\" stroke=\"black\" d=\"M504.39,-34.83C513.16,-36.35 521.65,-37.82 529.37,-39.15\"/>\n",
              "<polygon fill=\"black\" stroke=\"black\" points=\"528.5,-42.56 538.95,-40.81 529.69,-35.66 528.5,-42.56\"/>\n",
              "</g>\n",
              "<!-- 4537703392 -->\n",
              "<g id=\"node10\" class=\"node\">\n",
              "<title>4537703392</title>\n",
              "<polygon fill=\"none\" stroke=\"black\" points=\"630,-82.5 630,-118.5 816,-118.5 816,-82.5 630,-82.5\"/>\n",
              "<text text-anchor=\"middle\" x=\"640.25\" y=\"-95.7\" font-family=\"Times,serif\" font-size=\"14.00\">f</text>\n",
              "<polyline fill=\"none\" stroke=\"black\" points=\"650.5,-83 650.5,-118.5\"/>\n",
              "<text text-anchor=\"middle\" x=\"692.62\" y=\"-95.7\" font-family=\"Times,serif\" font-size=\"14.00\">data &#45;2.0000</text>\n",
              "<polyline fill=\"none\" stroke=\"black\" points=\"734.75,-83 734.75,-118.5\"/>\n",
              "<text text-anchor=\"middle\" x=\"775.38\" y=\"-95.7\" font-family=\"Times,serif\" font-size=\"14.00\">grad 0.0000</text>\n",
              "</g>\n",
              "<!-- 4537703392&#45;&gt;4537701328x -->\n",
              "<g id=\"edge8\" class=\"edge\">\n",
              "<title>4537703392&#45;&gt;4537701328x</title>\n",
              "<path fill=\"none\" stroke=\"black\" d=\"M816.25,-83.73C825.1,-82.12 833.67,-80.56 841.46,-79.14\"/>\n",
              "<polygon fill=\"black\" stroke=\"black\" points=\"841.93,-82.62 851.15,-77.38 840.68,-75.73 841.93,-82.62\"/>\n",
              "</g>\n",
              "</g>\n",
              "</svg>\n"
            ],
            "text/plain": [
              "<graphviz.graphs.Digraph at 0x10e77cd10>"
            ]
          },
          "execution_count": 54,
          "metadata": {},
          "output_type": "execute_result"
        }
      ],
      "source": [
        "dot = draw_dot(L)\n",
        "dot"
      ]
    },
    {
      "cell_type": "markdown",
      "metadata": {
        "id": "-TbntDpU6Psk"
      },
      "source": [
        "Now, will connect the dots by bringing derivatives into the picture by manually calculating them (Manual Backpropogation)"
      ]
    },
    {
      "cell_type": "code",
      "execution_count": 73,
      "metadata": {},
      "outputs": [
        {
          "data": {
            "text/plain": [
              "Value(data=0.999999993922529)"
            ]
          },
          "execution_count": 74,
          "metadata": {},
          "output_type": "execute_result"
        }
      ],
      "source": [
        "# when direcrly adding a small diff h to L, we can figure out the derivative of L with respect to L by identifying the limit\n",
        "h = 0.00000001\n",
        "\n",
        "a = Value(2.0, label='a')\n",
        "b = Value(-3.0, label='b')\n",
        "c = Value(10.0, label='c')\n",
        "e = a*b; e.label = 'e'\n",
        "d = e + c; d.label = 'd'\n",
        "f = Value(-2.0, label='f')\n",
        "L = d * f; L.label = 'L'  \n",
        "L1 = L\n",
        "\n",
        "\n",
        "L2 = L1 + h\n",
        "\n",
        "(L2 - L1) / h # This is going to be the derivative of L with respect to L which is 1"
      ]
    },
    {
      "cell_type": "markdown",
      "metadata": {
        "id": "hJRsI8Dt7MdU"
      },
      "source": [
        "Any changes we make in L, will be directy propositional ot L"
      ]
    },
    {
      "cell_type": "code",
      "execution_count": 75,
      "metadata": {
        "id": "fFntOeK67ICM"
      },
      "outputs": [],
      "source": [
        "L.grad = 1"
      ]
    },
    {
      "cell_type": "code",
      "execution_count": 76,
      "metadata": {
        "colab": {
          "base_uri": "https://localhost:8080/",
          "height": 250
        },
        "id": "MAhlVOX97YlO",
        "outputId": "95769af8-819d-43e1-9cfb-c8bc3c7187b6"
      },
      "outputs": [
        {
          "data": {
            "image/svg+xml": [
              "<?xml version=\"1.0\" encoding=\"UTF-8\" standalone=\"no\"?>\n",
              "<!DOCTYPE svg PUBLIC \"-//W3C//DTD SVG 1.1//EN\"\n",
              " \"http://www.w3.org/Graphics/SVG/1.1/DTD/svg11.dtd\">\n",
              "<!-- Generated by graphviz version 12.2.1 (20241206.2353)\n",
              " -->\n",
              "<!-- Pages: 1 -->\n",
              "<svg width=\"1140pt\" height=\"156pt\"\n",
              " viewBox=\"0.00 0.00 1139.75 156.00\" xmlns=\"http://www.w3.org/2000/svg\" xmlns:xlink=\"http://www.w3.org/1999/xlink\">\n",
              "<g id=\"graph0\" class=\"graph\" transform=\"scale(1 1) rotate(0) translate(4 152)\">\n",
              "<polygon fill=\"white\" stroke=\"none\" points=\"-4,4 -4,-152 1135.75,-152 1135.75,4 -4,4\"/>\n",
              "<!-- 4537404928 -->\n",
              "<g id=\"node1\" class=\"node\">\n",
              "<title>4537404928</title>\n",
              "<polygon fill=\"none\" stroke=\"black\" points=\"0,-111.5 0,-147.5 188.25,-147.5 188.25,-111.5 0,-111.5\"/>\n",
              "<text text-anchor=\"middle\" x=\"11.38\" y=\"-124.7\" font-family=\"Times,serif\" font-size=\"14.00\">b</text>\n",
              "<polyline fill=\"none\" stroke=\"black\" points=\"22.75,-112 22.75,-147.5\"/>\n",
              "<text text-anchor=\"middle\" x=\"64.88\" y=\"-124.7\" font-family=\"Times,serif\" font-size=\"14.00\">data &#45;3.0000</text>\n",
              "<polyline fill=\"none\" stroke=\"black\" points=\"107,-112 107,-147.5\"/>\n",
              "<text text-anchor=\"middle\" x=\"147.62\" y=\"-124.7\" font-family=\"Times,serif\" font-size=\"14.00\">grad 0.0000</text>\n",
              "</g>\n",
              "<!-- 4537403968x -->\n",
              "<g id=\"node3\" class=\"node\">\n",
              "<title>4537403968x</title>\n",
              "<ellipse fill=\"none\" stroke=\"black\" cx=\"251.25\" cy=\"-101.5\" rx=\"27\" ry=\"18\"/>\n",
              "<text text-anchor=\"middle\" x=\"251.25\" y=\"-96.45\" font-family=\"Times,serif\" font-size=\"14.00\">x</text>\n",
              "</g>\n",
              "<!-- 4537404928&#45;&gt;4537403968x -->\n",
              "<g id=\"edge9\" class=\"edge\">\n",
              "<title>4537404928&#45;&gt;4537403968x</title>\n",
              "<path fill=\"none\" stroke=\"black\" d=\"M188.49,-112.65C197.36,-111.05 205.93,-109.5 213.73,-108.09\"/>\n",
              "<polygon fill=\"black\" stroke=\"black\" points=\"214.2,-111.56 223.42,-106.34 212.95,-104.68 214.2,-111.56\"/>\n",
              "</g>\n",
              "<!-- 4537403968 -->\n",
              "<g id=\"node2\" class=\"node\">\n",
              "<title>4537403968</title>\n",
              "<polygon fill=\"none\" stroke=\"black\" points=\"315.38,-83.5 315.38,-119.5 502.88,-119.5 502.88,-83.5 315.38,-83.5\"/>\n",
              "<text text-anchor=\"middle\" x=\"326.38\" y=\"-96.7\" font-family=\"Times,serif\" font-size=\"14.00\">e</text>\n",
              "<polyline fill=\"none\" stroke=\"black\" points=\"337.38,-84 337.38,-119.5\"/>\n",
              "<text text-anchor=\"middle\" x=\"379.5\" y=\"-96.7\" font-family=\"Times,serif\" font-size=\"14.00\">data &#45;6.0000</text>\n",
              "<polyline fill=\"none\" stroke=\"black\" points=\"421.62,-84 421.62,-119.5\"/>\n",
              "<text text-anchor=\"middle\" x=\"462.25\" y=\"-96.7\" font-family=\"Times,serif\" font-size=\"14.00\">grad 0.0000</text>\n",
              "</g>\n",
              "<!-- 4537697344+ -->\n",
              "<g id=\"node5\" class=\"node\">\n",
              "<title>4537697344+</title>\n",
              "<ellipse fill=\"none\" stroke=\"black\" cx=\"567\" cy=\"-73.5\" rx=\"27\" ry=\"18\"/>\n",
              "<text text-anchor=\"middle\" x=\"567\" y=\"-68.45\" font-family=\"Times,serif\" font-size=\"14.00\">+</text>\n",
              "</g>\n",
              "<!-- 4537403968&#45;&gt;4537697344+ -->\n",
              "<g id=\"edge4\" class=\"edge\">\n",
              "<title>4537403968&#45;&gt;4537697344+</title>\n",
              "<path fill=\"none\" stroke=\"black\" d=\"M503.05,-84.81C512.25,-83.16 521.16,-81.56 529.24,-80.1\"/>\n",
              "<polygon fill=\"black\" stroke=\"black\" points=\"529.71,-83.58 538.93,-78.36 528.47,-76.69 529.71,-83.58\"/>\n",
              "</g>\n",
              "<!-- 4537403968x&#45;&gt;4537403968 -->\n",
              "<g id=\"edge1\" class=\"edge\">\n",
              "<title>4537403968x&#45;&gt;4537403968</title>\n",
              "<path fill=\"none\" stroke=\"black\" d=\"M278.69,-101.5C286.1,-101.5 294.64,-101.5 303.71,-101.5\"/>\n",
              "<polygon fill=\"black\" stroke=\"black\" points=\"303.51,-105 313.51,-101.5 303.51,-98 303.51,-105\"/>\n",
              "</g>\n",
              "<!-- 4537697344 -->\n",
              "<g id=\"node4\" class=\"node\">\n",
              "<title>4537697344</title>\n",
              "<polygon fill=\"none\" stroke=\"black\" points=\"631.12,-55.5 631.12,-91.5 814.88,-91.5 814.88,-55.5 631.12,-55.5\"/>\n",
              "<text text-anchor=\"middle\" x=\"642.5\" y=\"-68.7\" font-family=\"Times,serif\" font-size=\"14.00\">d</text>\n",
              "<polyline fill=\"none\" stroke=\"black\" points=\"653.88,-56 653.88,-91.5\"/>\n",
              "<text text-anchor=\"middle\" x=\"693.75\" y=\"-68.7\" font-family=\"Times,serif\" font-size=\"14.00\">data 4.0000</text>\n",
              "<polyline fill=\"none\" stroke=\"black\" points=\"733.62,-56 733.62,-91.5\"/>\n",
              "<text text-anchor=\"middle\" x=\"774.25\" y=\"-68.7\" font-family=\"Times,serif\" font-size=\"14.00\">grad 0.0000</text>\n",
              "</g>\n",
              "<!-- 4537410160x -->\n",
              "<g id=\"node7\" class=\"node\">\n",
              "<title>4537410160x</title>\n",
              "<ellipse fill=\"none\" stroke=\"black\" cx=\"879\" cy=\"-45.5\" rx=\"27\" ry=\"18\"/>\n",
              "<text text-anchor=\"middle\" x=\"879\" y=\"-40.45\" font-family=\"Times,serif\" font-size=\"14.00\">x</text>\n",
              "</g>\n",
              "<!-- 4537697344&#45;&gt;4537410160x -->\n",
              "<g id=\"edge7\" class=\"edge\">\n",
              "<title>4537697344&#45;&gt;4537410160x</title>\n",
              "<path fill=\"none\" stroke=\"black\" d=\"M815.36,-56.89C824.5,-55.23 833.36,-53.62 841.4,-52.15\"/>\n",
              "<polygon fill=\"black\" stroke=\"black\" points=\"841.83,-55.63 851.04,-50.4 840.57,-48.75 841.83,-55.63\"/>\n",
              "</g>\n",
              "<!-- 4537697344+&#45;&gt;4537697344 -->\n",
              "<g id=\"edge2\" class=\"edge\">\n",
              "<title>4537697344+&#45;&gt;4537697344</title>\n",
              "<path fill=\"none\" stroke=\"black\" d=\"M594.47,-73.5C601.87,-73.5 610.38,-73.5 619.43,-73.5\"/>\n",
              "<polygon fill=\"black\" stroke=\"black\" points=\"619.17,-77 629.17,-73.5 619.17,-70 619.17,-77\"/>\n",
              "</g>\n",
              "<!-- 4537410160 -->\n",
              "<g id=\"node6\" class=\"node\">\n",
              "<title>4537410160</title>\n",
              "<polygon fill=\"none\" stroke=\"black\" points=\"942,-27.5 942,-63.5 1131.75,-63.5 1131.75,-27.5 942,-27.5\"/>\n",
              "<text text-anchor=\"middle\" x=\"954.12\" y=\"-40.7\" font-family=\"Times,serif\" font-size=\"14.00\">L</text>\n",
              "<polyline fill=\"none\" stroke=\"black\" points=\"966.25,-28 966.25,-63.5\"/>\n",
              "<text text-anchor=\"middle\" x=\"1008.38\" y=\"-40.7\" font-family=\"Times,serif\" font-size=\"14.00\">data &#45;8.0000</text>\n",
              "<polyline fill=\"none\" stroke=\"black\" points=\"1050.5,-28 1050.5,-63.5\"/>\n",
              "<text text-anchor=\"middle\" x=\"1091.12\" y=\"-40.7\" font-family=\"Times,serif\" font-size=\"14.00\">grad 1.0000</text>\n",
              "</g>\n",
              "<!-- 4537410160x&#45;&gt;4537410160 -->\n",
              "<g id=\"edge3\" class=\"edge\">\n",
              "<title>4537410160x&#45;&gt;4537410160</title>\n",
              "<path fill=\"none\" stroke=\"black\" d=\"M906.44,-45.5C913.59,-45.5 921.78,-45.5 930.49,-45.5\"/>\n",
              "<polygon fill=\"black\" stroke=\"black\" points=\"930.26,-49 940.26,-45.5 930.26,-42 930.26,-49\"/>\n",
              "</g>\n",
              "<!-- 4537413232 -->\n",
              "<g id=\"node8\" class=\"node\">\n",
              "<title>4537413232</title>\n",
              "<polygon fill=\"none\" stroke=\"black\" points=\"314.25,-28.5 314.25,-64.5 504,-64.5 504,-28.5 314.25,-28.5\"/>\n",
              "<text text-anchor=\"middle\" x=\"325.25\" y=\"-41.7\" font-family=\"Times,serif\" font-size=\"14.00\">c</text>\n",
              "<polyline fill=\"none\" stroke=\"black\" points=\"336.25,-29 336.25,-64.5\"/>\n",
              "<text text-anchor=\"middle\" x=\"379.5\" y=\"-41.7\" font-family=\"Times,serif\" font-size=\"14.00\">data 10.0000</text>\n",
              "<polyline fill=\"none\" stroke=\"black\" points=\"422.75,-29 422.75,-64.5\"/>\n",
              "<text text-anchor=\"middle\" x=\"463.38\" y=\"-41.7\" font-family=\"Times,serif\" font-size=\"14.00\">grad 0.0000</text>\n",
              "</g>\n",
              "<!-- 4537413232&#45;&gt;4537697344+ -->\n",
              "<g id=\"edge5\" class=\"edge\">\n",
              "<title>4537413232&#45;&gt;4537697344+</title>\n",
              "<path fill=\"none\" stroke=\"black\" d=\"M504.39,-62.83C513.16,-64.35 521.65,-65.82 529.37,-67.15\"/>\n",
              "<polygon fill=\"black\" stroke=\"black\" points=\"528.5,-70.56 538.95,-68.81 529.69,-63.66 528.5,-70.56\"/>\n",
              "</g>\n",
              "<!-- 4537698016 -->\n",
              "<g id=\"node9\" class=\"node\">\n",
              "<title>4537698016</title>\n",
              "<polygon fill=\"none\" stroke=\"black\" points=\"2.62,-56.5 2.62,-92.5 185.62,-92.5 185.62,-56.5 2.62,-56.5\"/>\n",
              "<text text-anchor=\"middle\" x=\"13.62\" y=\"-69.7\" font-family=\"Times,serif\" font-size=\"14.00\">a</text>\n",
              "<polyline fill=\"none\" stroke=\"black\" points=\"24.62,-57 24.62,-92.5\"/>\n",
              "<text text-anchor=\"middle\" x=\"64.5\" y=\"-69.7\" font-family=\"Times,serif\" font-size=\"14.00\">data 2.0000</text>\n",
              "<polyline fill=\"none\" stroke=\"black\" points=\"104.38,-57 104.38,-92.5\"/>\n",
              "<text text-anchor=\"middle\" x=\"145\" y=\"-69.7\" font-family=\"Times,serif\" font-size=\"14.00\">grad 0.0000</text>\n",
              "</g>\n",
              "<!-- 4537698016&#45;&gt;4537403968x -->\n",
              "<g id=\"edge8\" class=\"edge\">\n",
              "<title>4537698016&#45;&gt;4537403968x</title>\n",
              "<path fill=\"none\" stroke=\"black\" d=\"M185.81,-90.28C195.45,-91.96 204.82,-93.59 213.29,-95.07\"/>\n",
              "<polygon fill=\"black\" stroke=\"black\" points=\"212.65,-98.51 223.1,-96.77 213.85,-91.61 212.65,-98.51\"/>\n",
              "</g>\n",
              "<!-- 4537402768 -->\n",
              "<g id=\"node10\" class=\"node\">\n",
              "<title>4537402768</title>\n",
              "<polygon fill=\"none\" stroke=\"black\" points=\"630,-0.5 630,-36.5 816,-36.5 816,-0.5 630,-0.5\"/>\n",
              "<text text-anchor=\"middle\" x=\"640.25\" y=\"-13.7\" font-family=\"Times,serif\" font-size=\"14.00\">f</text>\n",
              "<polyline fill=\"none\" stroke=\"black\" points=\"650.5,-1 650.5,-36.5\"/>\n",
              "<text text-anchor=\"middle\" x=\"692.62\" y=\"-13.7\" font-family=\"Times,serif\" font-size=\"14.00\">data &#45;2.0000</text>\n",
              "<polyline fill=\"none\" stroke=\"black\" points=\"734.75,-1 734.75,-36.5\"/>\n",
              "<text text-anchor=\"middle\" x=\"775.38\" y=\"-13.7\" font-family=\"Times,serif\" font-size=\"14.00\">grad 0.0000</text>\n",
              "</g>\n",
              "<!-- 4537402768&#45;&gt;4537410160x -->\n",
              "<g id=\"edge6\" class=\"edge\">\n",
              "<title>4537402768&#45;&gt;4537410160x</title>\n",
              "<path fill=\"none\" stroke=\"black\" d=\"M816.25,-34.67C825.01,-36.21 833.5,-37.7 841.24,-39.05\"/>\n",
              "<polygon fill=\"black\" stroke=\"black\" points=\"840.39,-42.46 850.84,-40.74 841.6,-35.56 840.39,-42.46\"/>\n",
              "</g>\n",
              "</g>\n",
              "</svg>\n"
            ],
            "text/plain": [
              "<graphviz.graphs.Digraph at 0x10e77c1a0>"
            ]
          },
          "execution_count": 76,
          "metadata": {},
          "output_type": "execute_result"
        }
      ],
      "source": [
        "dot = draw_dot(L)\n",
        "dot"
      ]
    },
    {
      "cell_type": "markdown",
      "metadata": {},
      "source": [
        "Let's calculate the derivative of L with respect to f\n",
        "\n",
        "$L = f \\cdot d$\n",
        "\n",
        "A small change $h$ on $f$ gives us:\n",
        "\n",
        "$\\frac{dL}{df} = \\lim_{h \\to 0} \\frac{((f + h) \\cdot d - f \\cdot d)}{h}$\n",
        "$= \\lim_{h \\to 0} \\frac{fd + hd - fd}{h}$\n",
        "$= \\lim_{h \\to 0} \\frac{hd}{h}$\n",
        "$= d$\n",
        "\n",
        "So the gradient of L with respect to f is d, and vice versa."
      ]
    },
    {
      "cell_type": "code",
      "execution_count": 80,
      "metadata": {
        "id": "FXX7wvyN7aiU"
      },
      "outputs": [],
      "source": [
        "d.grad = -2.0\n",
        "f.grad = 4.0"
      ]
    },
    {
      "cell_type": "code",
      "execution_count": 81,
      "metadata": {
        "colab": {
          "base_uri": "https://localhost:8080/",
          "height": 250
        },
        "id": "OjrEU4C4-zDg",
        "outputId": "8255ccb8-603a-48f1-affd-119e80f9867e"
      },
      "outputs": [
        {
          "data": {
            "image/svg+xml": [
              "<?xml version=\"1.0\" encoding=\"UTF-8\" standalone=\"no\"?>\n",
              "<!DOCTYPE svg PUBLIC \"-//W3C//DTD SVG 1.1//EN\"\n",
              " \"http://www.w3.org/Graphics/SVG/1.1/DTD/svg11.dtd\">\n",
              "<!-- Generated by graphviz version 12.2.1 (20241206.2353)\n",
              " -->\n",
              "<!-- Pages: 1 -->\n",
              "<svg width=\"1140pt\" height=\"156pt\"\n",
              " viewBox=\"0.00 0.00 1139.75 156.00\" xmlns=\"http://www.w3.org/2000/svg\" xmlns:xlink=\"http://www.w3.org/1999/xlink\">\n",
              "<g id=\"graph0\" class=\"graph\" transform=\"scale(1 1) rotate(0) translate(4 152)\">\n",
              "<polygon fill=\"white\" stroke=\"none\" points=\"-4,4 -4,-152 1135.75,-152 1135.75,4 -4,4\"/>\n",
              "<!-- 4537404928 -->\n",
              "<g id=\"node1\" class=\"node\">\n",
              "<title>4537404928</title>\n",
              "<polygon fill=\"none\" stroke=\"black\" points=\"0,-111.5 0,-147.5 188.25,-147.5 188.25,-111.5 0,-111.5\"/>\n",
              "<text text-anchor=\"middle\" x=\"11.38\" y=\"-124.7\" font-family=\"Times,serif\" font-size=\"14.00\">b</text>\n",
              "<polyline fill=\"none\" stroke=\"black\" points=\"22.75,-112 22.75,-147.5\"/>\n",
              "<text text-anchor=\"middle\" x=\"64.88\" y=\"-124.7\" font-family=\"Times,serif\" font-size=\"14.00\">data &#45;3.0000</text>\n",
              "<polyline fill=\"none\" stroke=\"black\" points=\"107,-112 107,-147.5\"/>\n",
              "<text text-anchor=\"middle\" x=\"147.62\" y=\"-124.7\" font-family=\"Times,serif\" font-size=\"14.00\">grad 0.0000</text>\n",
              "</g>\n",
              "<!-- 4537403968x -->\n",
              "<g id=\"node3\" class=\"node\">\n",
              "<title>4537403968x</title>\n",
              "<ellipse fill=\"none\" stroke=\"black\" cx=\"251.25\" cy=\"-101.5\" rx=\"27\" ry=\"18\"/>\n",
              "<text text-anchor=\"middle\" x=\"251.25\" y=\"-96.45\" font-family=\"Times,serif\" font-size=\"14.00\">x</text>\n",
              "</g>\n",
              "<!-- 4537404928&#45;&gt;4537403968x -->\n",
              "<g id=\"edge9\" class=\"edge\">\n",
              "<title>4537404928&#45;&gt;4537403968x</title>\n",
              "<path fill=\"none\" stroke=\"black\" d=\"M188.49,-112.65C197.36,-111.05 205.93,-109.5 213.73,-108.09\"/>\n",
              "<polygon fill=\"black\" stroke=\"black\" points=\"214.2,-111.56 223.42,-106.34 212.95,-104.68 214.2,-111.56\"/>\n",
              "</g>\n",
              "<!-- 4537403968 -->\n",
              "<g id=\"node2\" class=\"node\">\n",
              "<title>4537403968</title>\n",
              "<polygon fill=\"none\" stroke=\"black\" points=\"315.38,-83.5 315.38,-119.5 502.88,-119.5 502.88,-83.5 315.38,-83.5\"/>\n",
              "<text text-anchor=\"middle\" x=\"326.38\" y=\"-96.7\" font-family=\"Times,serif\" font-size=\"14.00\">e</text>\n",
              "<polyline fill=\"none\" stroke=\"black\" points=\"337.38,-84 337.38,-119.5\"/>\n",
              "<text text-anchor=\"middle\" x=\"379.5\" y=\"-96.7\" font-family=\"Times,serif\" font-size=\"14.00\">data &#45;6.0000</text>\n",
              "<polyline fill=\"none\" stroke=\"black\" points=\"421.62,-84 421.62,-119.5\"/>\n",
              "<text text-anchor=\"middle\" x=\"462.25\" y=\"-96.7\" font-family=\"Times,serif\" font-size=\"14.00\">grad 0.0000</text>\n",
              "</g>\n",
              "<!-- 4537697344+ -->\n",
              "<g id=\"node5\" class=\"node\">\n",
              "<title>4537697344+</title>\n",
              "<ellipse fill=\"none\" stroke=\"black\" cx=\"567\" cy=\"-73.5\" rx=\"27\" ry=\"18\"/>\n",
              "<text text-anchor=\"middle\" x=\"567\" y=\"-68.45\" font-family=\"Times,serif\" font-size=\"14.00\">+</text>\n",
              "</g>\n",
              "<!-- 4537403968&#45;&gt;4537697344+ -->\n",
              "<g id=\"edge4\" class=\"edge\">\n",
              "<title>4537403968&#45;&gt;4537697344+</title>\n",
              "<path fill=\"none\" stroke=\"black\" d=\"M503.05,-84.81C512.25,-83.16 521.16,-81.56 529.24,-80.1\"/>\n",
              "<polygon fill=\"black\" stroke=\"black\" points=\"529.71,-83.58 538.93,-78.36 528.47,-76.69 529.71,-83.58\"/>\n",
              "</g>\n",
              "<!-- 4537403968x&#45;&gt;4537403968 -->\n",
              "<g id=\"edge1\" class=\"edge\">\n",
              "<title>4537403968x&#45;&gt;4537403968</title>\n",
              "<path fill=\"none\" stroke=\"black\" d=\"M278.69,-101.5C286.1,-101.5 294.64,-101.5 303.71,-101.5\"/>\n",
              "<polygon fill=\"black\" stroke=\"black\" points=\"303.51,-105 313.51,-101.5 303.51,-98 303.51,-105\"/>\n",
              "</g>\n",
              "<!-- 4537697344 -->\n",
              "<g id=\"node4\" class=\"node\">\n",
              "<title>4537697344</title>\n",
              "<polygon fill=\"none\" stroke=\"black\" points=\"631.12,-55.5 631.12,-91.5 814.88,-91.5 814.88,-55.5 631.12,-55.5\"/>\n",
              "<text text-anchor=\"middle\" x=\"642.5\" y=\"-68.7\" font-family=\"Times,serif\" font-size=\"14.00\">d</text>\n",
              "<polyline fill=\"none\" stroke=\"black\" points=\"653.88,-56 653.88,-91.5\"/>\n",
              "<text text-anchor=\"middle\" x=\"693.75\" y=\"-68.7\" font-family=\"Times,serif\" font-size=\"14.00\">data 4.0000</text>\n",
              "<polyline fill=\"none\" stroke=\"black\" points=\"733.62,-56 733.62,-91.5\"/>\n",
              "<text text-anchor=\"middle\" x=\"774.25\" y=\"-68.7\" font-family=\"Times,serif\" font-size=\"14.00\">grad 0.0000</text>\n",
              "</g>\n",
              "<!-- 4537410160x -->\n",
              "<g id=\"node7\" class=\"node\">\n",
              "<title>4537410160x</title>\n",
              "<ellipse fill=\"none\" stroke=\"black\" cx=\"879\" cy=\"-45.5\" rx=\"27\" ry=\"18\"/>\n",
              "<text text-anchor=\"middle\" x=\"879\" y=\"-40.45\" font-family=\"Times,serif\" font-size=\"14.00\">x</text>\n",
              "</g>\n",
              "<!-- 4537697344&#45;&gt;4537410160x -->\n",
              "<g id=\"edge7\" class=\"edge\">\n",
              "<title>4537697344&#45;&gt;4537410160x</title>\n",
              "<path fill=\"none\" stroke=\"black\" d=\"M815.36,-56.89C824.5,-55.23 833.36,-53.62 841.4,-52.15\"/>\n",
              "<polygon fill=\"black\" stroke=\"black\" points=\"841.83,-55.63 851.04,-50.4 840.57,-48.75 841.83,-55.63\"/>\n",
              "</g>\n",
              "<!-- 4537697344+&#45;&gt;4537697344 -->\n",
              "<g id=\"edge2\" class=\"edge\">\n",
              "<title>4537697344+&#45;&gt;4537697344</title>\n",
              "<path fill=\"none\" stroke=\"black\" d=\"M594.47,-73.5C601.87,-73.5 610.38,-73.5 619.43,-73.5\"/>\n",
              "<polygon fill=\"black\" stroke=\"black\" points=\"619.17,-77 629.17,-73.5 619.17,-70 619.17,-77\"/>\n",
              "</g>\n",
              "<!-- 4537410160 -->\n",
              "<g id=\"node6\" class=\"node\">\n",
              "<title>4537410160</title>\n",
              "<polygon fill=\"none\" stroke=\"black\" points=\"942,-27.5 942,-63.5 1131.75,-63.5 1131.75,-27.5 942,-27.5\"/>\n",
              "<text text-anchor=\"middle\" x=\"954.12\" y=\"-40.7\" font-family=\"Times,serif\" font-size=\"14.00\">L</text>\n",
              "<polyline fill=\"none\" stroke=\"black\" points=\"966.25,-28 966.25,-63.5\"/>\n",
              "<text text-anchor=\"middle\" x=\"1008.38\" y=\"-40.7\" font-family=\"Times,serif\" font-size=\"14.00\">data &#45;8.0000</text>\n",
              "<polyline fill=\"none\" stroke=\"black\" points=\"1050.5,-28 1050.5,-63.5\"/>\n",
              "<text text-anchor=\"middle\" x=\"1091.12\" y=\"-40.7\" font-family=\"Times,serif\" font-size=\"14.00\">grad 1.0000</text>\n",
              "</g>\n",
              "<!-- 4537410160x&#45;&gt;4537410160 -->\n",
              "<g id=\"edge3\" class=\"edge\">\n",
              "<title>4537410160x&#45;&gt;4537410160</title>\n",
              "<path fill=\"none\" stroke=\"black\" d=\"M906.44,-45.5C913.59,-45.5 921.78,-45.5 930.49,-45.5\"/>\n",
              "<polygon fill=\"black\" stroke=\"black\" points=\"930.26,-49 940.26,-45.5 930.26,-42 930.26,-49\"/>\n",
              "</g>\n",
              "<!-- 4537413232 -->\n",
              "<g id=\"node8\" class=\"node\">\n",
              "<title>4537413232</title>\n",
              "<polygon fill=\"none\" stroke=\"black\" points=\"314.25,-28.5 314.25,-64.5 504,-64.5 504,-28.5 314.25,-28.5\"/>\n",
              "<text text-anchor=\"middle\" x=\"325.25\" y=\"-41.7\" font-family=\"Times,serif\" font-size=\"14.00\">c</text>\n",
              "<polyline fill=\"none\" stroke=\"black\" points=\"336.25,-29 336.25,-64.5\"/>\n",
              "<text text-anchor=\"middle\" x=\"379.5\" y=\"-41.7\" font-family=\"Times,serif\" font-size=\"14.00\">data 10.0000</text>\n",
              "<polyline fill=\"none\" stroke=\"black\" points=\"422.75,-29 422.75,-64.5\"/>\n",
              "<text text-anchor=\"middle\" x=\"463.38\" y=\"-41.7\" font-family=\"Times,serif\" font-size=\"14.00\">grad 0.0000</text>\n",
              "</g>\n",
              "<!-- 4537413232&#45;&gt;4537697344+ -->\n",
              "<g id=\"edge5\" class=\"edge\">\n",
              "<title>4537413232&#45;&gt;4537697344+</title>\n",
              "<path fill=\"none\" stroke=\"black\" d=\"M504.39,-62.83C513.16,-64.35 521.65,-65.82 529.37,-67.15\"/>\n",
              "<polygon fill=\"black\" stroke=\"black\" points=\"528.5,-70.56 538.95,-68.81 529.69,-63.66 528.5,-70.56\"/>\n",
              "</g>\n",
              "<!-- 4537698016 -->\n",
              "<g id=\"node9\" class=\"node\">\n",
              "<title>4537698016</title>\n",
              "<polygon fill=\"none\" stroke=\"black\" points=\"2.62,-56.5 2.62,-92.5 185.62,-92.5 185.62,-56.5 2.62,-56.5\"/>\n",
              "<text text-anchor=\"middle\" x=\"13.62\" y=\"-69.7\" font-family=\"Times,serif\" font-size=\"14.00\">a</text>\n",
              "<polyline fill=\"none\" stroke=\"black\" points=\"24.62,-57 24.62,-92.5\"/>\n",
              "<text text-anchor=\"middle\" x=\"64.5\" y=\"-69.7\" font-family=\"Times,serif\" font-size=\"14.00\">data 2.0000</text>\n",
              "<polyline fill=\"none\" stroke=\"black\" points=\"104.38,-57 104.38,-92.5\"/>\n",
              "<text text-anchor=\"middle\" x=\"145\" y=\"-69.7\" font-family=\"Times,serif\" font-size=\"14.00\">grad 0.0000</text>\n",
              "</g>\n",
              "<!-- 4537698016&#45;&gt;4537403968x -->\n",
              "<g id=\"edge8\" class=\"edge\">\n",
              "<title>4537698016&#45;&gt;4537403968x</title>\n",
              "<path fill=\"none\" stroke=\"black\" d=\"M185.81,-90.28C195.45,-91.96 204.82,-93.59 213.29,-95.07\"/>\n",
              "<polygon fill=\"black\" stroke=\"black\" points=\"212.65,-98.51 223.1,-96.77 213.85,-91.61 212.65,-98.51\"/>\n",
              "</g>\n",
              "<!-- 4537402768 -->\n",
              "<g id=\"node10\" class=\"node\">\n",
              "<title>4537402768</title>\n",
              "<polygon fill=\"none\" stroke=\"black\" points=\"630,-0.5 630,-36.5 816,-36.5 816,-0.5 630,-0.5\"/>\n",
              "<text text-anchor=\"middle\" x=\"640.25\" y=\"-13.7\" font-family=\"Times,serif\" font-size=\"14.00\">f</text>\n",
              "<polyline fill=\"none\" stroke=\"black\" points=\"650.5,-1 650.5,-36.5\"/>\n",
              "<text text-anchor=\"middle\" x=\"692.62\" y=\"-13.7\" font-family=\"Times,serif\" font-size=\"14.00\">data &#45;2.0000</text>\n",
              "<polyline fill=\"none\" stroke=\"black\" points=\"734.75,-1 734.75,-36.5\"/>\n",
              "<text text-anchor=\"middle\" x=\"775.38\" y=\"-13.7\" font-family=\"Times,serif\" font-size=\"14.00\">grad 0.0000</text>\n",
              "</g>\n",
              "<!-- 4537402768&#45;&gt;4537410160x -->\n",
              "<g id=\"edge6\" class=\"edge\">\n",
              "<title>4537402768&#45;&gt;4537410160x</title>\n",
              "<path fill=\"none\" stroke=\"black\" d=\"M816.25,-34.67C825.01,-36.21 833.5,-37.7 841.24,-39.05\"/>\n",
              "<polygon fill=\"black\" stroke=\"black\" points=\"840.39,-42.46 850.84,-40.74 841.6,-35.56 840.39,-42.46\"/>\n",
              "</g>\n",
              "</g>\n",
              "</svg>\n"
            ],
            "text/plain": [
              "<graphviz.graphs.Digraph at 0x10e737050>"
            ]
          },
          "execution_count": 81,
          "metadata": {},
          "output_type": "execute_result"
        }
      ],
      "source": [
        "draw_dot(L)"
      ]
    },
    {
      "cell_type": "markdown",
      "metadata": {
        "id": "qX9uMBFC-4Mx"
      },
      "source": [
        "The derivative of L with respect to d is e\n",
        "\n",
        "dL/de = dL/dd * dd/de\n",
        "\n",
        "d = e + c\n",
        "derivative of d with respect to e\n",
        "limit h -> 0 (e + h + c - e - c) / h\n",
        "= limit h -> 0 h / h\n",
        "= 1\n",
        "\n",
        "here\n",
        "dd/de = 1\n",
        "as well as dd/dc = 1\n",
        "\n",
        "proof </br>\n",
        "((e+h) + c) - (e + c) / h </br>\n",
        "= e + h + c - e - c /h </br>\n",
        "= 1\n"
      ]
    },
    {
      "cell_type": "code",
      "execution_count": 29,
      "metadata": {
        "id": "357hvh9Q-0_9"
      },
      "outputs": [],
      "source": [
        "e.grad = 1\n",
        "c.grad = 1\n",
        "b.grad = 2\n",
        "a.grad = -3"
      ]
    },
    {
      "cell_type": "code",
      "execution_count": 30,
      "metadata": {
        "colab": {
          "base_uri": "https://localhost:8080/",
          "height": 250
        },
        "id": "gLvuphJZ_gGJ",
        "outputId": "df963abe-be79-4fb3-971e-e177150596bc"
      },
      "outputs": [
        {
          "data": {
            "image/svg+xml": [
              "<?xml version=\"1.0\" encoding=\"UTF-8\" standalone=\"no\"?>\n",
              "<!DOCTYPE svg PUBLIC \"-//W3C//DTD SVG 1.1//EN\"\n",
              " \"http://www.w3.org/Graphics/SVG/1.1/DTD/svg11.dtd\">\n",
              "<!-- Generated by graphviz version 12.2.1 (20241206.2353)\n",
              " -->\n",
              "<!-- Pages: 1 -->\n",
              "<svg width=\"1142pt\" height=\"128pt\"\n",
              " viewBox=\"0.00 0.00 1142.00 128.00\" xmlns=\"http://www.w3.org/2000/svg\" xmlns:xlink=\"http://www.w3.org/1999/xlink\">\n",
              "<g id=\"graph0\" class=\"graph\" transform=\"scale(1 1) rotate(0) translate(4 124)\">\n",
              "<polygon fill=\"white\" stroke=\"none\" points=\"-4,4 -4,-124 1138,-124 1138,4 -4,4\"/>\n",
              "<!-- 4536155696 -->\n",
              "<g id=\"node1\" class=\"node\">\n",
              "<title>4536155696</title>\n",
              "<polygon fill=\"none\" stroke=\"black\" points=\"314.25,-83.5 314.25,-119.5 504,-119.5 504,-83.5 314.25,-83.5\"/>\n",
              "<text text-anchor=\"middle\" x=\"325.25\" y=\"-96.7\" font-family=\"Times,serif\" font-size=\"14.00\">c</text>\n",
              "<polyline fill=\"none\" stroke=\"black\" points=\"336.25,-84 336.25,-119.5\"/>\n",
              "<text text-anchor=\"middle\" x=\"379.5\" y=\"-96.7\" font-family=\"Times,serif\" font-size=\"14.00\">data 10.0000</text>\n",
              "<polyline fill=\"none\" stroke=\"black\" points=\"422.75,-84 422.75,-119.5\"/>\n",
              "<text text-anchor=\"middle\" x=\"463.38\" y=\"-96.7\" font-family=\"Times,serif\" font-size=\"14.00\">grad 1.0000</text>\n",
              "</g>\n",
              "<!-- 4536154688+ -->\n",
              "<g id=\"node3\" class=\"node\">\n",
              "<title>4536154688+</title>\n",
              "<ellipse fill=\"none\" stroke=\"black\" cx=\"567\" cy=\"-73.5\" rx=\"27\" ry=\"18\"/>\n",
              "<text text-anchor=\"middle\" x=\"567\" y=\"-68.45\" font-family=\"Times,serif\" font-size=\"14.00\">+</text>\n",
              "</g>\n",
              "<!-- 4536155696&#45;&gt;4536154688+ -->\n",
              "<g id=\"edge7\" class=\"edge\">\n",
              "<title>4536155696&#45;&gt;4536154688+</title>\n",
              "<path fill=\"none\" stroke=\"black\" d=\"M504.39,-84.57C513.16,-82.99 521.65,-81.47 529.37,-80.08\"/>\n",
              "<polygon fill=\"black\" stroke=\"black\" points=\"529.73,-83.57 538.95,-78.36 528.49,-76.68 529.73,-83.57\"/>\n",
              "</g>\n",
              "<!-- 4536154688 -->\n",
              "<g id=\"node2\" class=\"node\">\n",
              "<title>4536154688</title>\n",
              "<polygon fill=\"none\" stroke=\"black\" points=\"630,-55.5 630,-91.5 818.25,-91.5 818.25,-55.5 630,-55.5\"/>\n",
              "<text text-anchor=\"middle\" x=\"641.38\" y=\"-68.7\" font-family=\"Times,serif\" font-size=\"14.00\">d</text>\n",
              "<polyline fill=\"none\" stroke=\"black\" points=\"652.75,-56 652.75,-91.5\"/>\n",
              "<text text-anchor=\"middle\" x=\"692.62\" y=\"-68.7\" font-family=\"Times,serif\" font-size=\"14.00\">data 4.0000</text>\n",
              "<polyline fill=\"none\" stroke=\"black\" points=\"732.5,-56 732.5,-91.5\"/>\n",
              "<text text-anchor=\"middle\" x=\"775.38\" y=\"-68.7\" font-family=\"Times,serif\" font-size=\"14.00\">grad &#45;2.0000</text>\n",
              "</g>\n",
              "<!-- 4536154400x -->\n",
              "<g id=\"node9\" class=\"node\">\n",
              "<title>4536154400x</title>\n",
              "<ellipse fill=\"none\" stroke=\"black\" cx=\"881.25\" cy=\"-45.5\" rx=\"27\" ry=\"18\"/>\n",
              "<text text-anchor=\"middle\" x=\"881.25\" y=\"-40.45\" font-family=\"Times,serif\" font-size=\"14.00\">x</text>\n",
              "</g>\n",
              "<!-- 4536154688&#45;&gt;4536154400x -->\n",
              "<g id=\"edge5\" class=\"edge\">\n",
              "<title>4536154688&#45;&gt;4536154400x</title>\n",
              "<path fill=\"none\" stroke=\"black\" d=\"M818.49,-56.65C827.36,-55.05 835.93,-53.5 843.73,-52.09\"/>\n",
              "<polygon fill=\"black\" stroke=\"black\" points=\"844.2,-55.56 853.42,-50.34 842.95,-48.68 844.2,-55.56\"/>\n",
              "</g>\n",
              "<!-- 4536154688+&#45;&gt;4536154688 -->\n",
              "<g id=\"edge1\" class=\"edge\">\n",
              "<title>4536154688+&#45;&gt;4536154688</title>\n",
              "<path fill=\"none\" stroke=\"black\" d=\"M594.31,-73.5C601.49,-73.5 609.72,-73.5 618.47,-73.5\"/>\n",
              "<polygon fill=\"black\" stroke=\"black\" points=\"618.29,-77 628.29,-73.5 618.29,-70 618.29,-77\"/>\n",
              "</g>\n",
              "<!-- 4536154736 -->\n",
              "<g id=\"node4\" class=\"node\">\n",
              "<title>4536154736</title>\n",
              "<polygon fill=\"none\" stroke=\"black\" points=\"315.38,-28.5 315.38,-64.5 502.88,-64.5 502.88,-28.5 315.38,-28.5\"/>\n",
              "<text text-anchor=\"middle\" x=\"326.38\" y=\"-41.7\" font-family=\"Times,serif\" font-size=\"14.00\">e</text>\n",
              "<polyline fill=\"none\" stroke=\"black\" points=\"337.38,-29 337.38,-64.5\"/>\n",
              "<text text-anchor=\"middle\" x=\"379.5\" y=\"-41.7\" font-family=\"Times,serif\" font-size=\"14.00\">data &#45;6.0000</text>\n",
              "<polyline fill=\"none\" stroke=\"black\" points=\"421.62,-29 421.62,-64.5\"/>\n",
              "<text text-anchor=\"middle\" x=\"462.25\" y=\"-41.7\" font-family=\"Times,serif\" font-size=\"14.00\">grad 1.0000</text>\n",
              "</g>\n",
              "<!-- 4536154736&#45;&gt;4536154688+ -->\n",
              "<g id=\"edge6\" class=\"edge\">\n",
              "<title>4536154736&#45;&gt;4536154688+</title>\n",
              "<path fill=\"none\" stroke=\"black\" d=\"M503.05,-62.6C512.25,-64.19 521.16,-65.73 529.24,-67.13\"/>\n",
              "<polygon fill=\"black\" stroke=\"black\" points=\"528.48,-70.55 538.93,-68.81 529.68,-63.66 528.48,-70.55\"/>\n",
              "</g>\n",
              "<!-- 4536154736x -->\n",
              "<g id=\"node5\" class=\"node\">\n",
              "<title>4536154736x</title>\n",
              "<ellipse fill=\"none\" stroke=\"black\" cx=\"251.25\" cy=\"-46.5\" rx=\"27\" ry=\"18\"/>\n",
              "<text text-anchor=\"middle\" x=\"251.25\" y=\"-41.45\" font-family=\"Times,serif\" font-size=\"14.00\">x</text>\n",
              "</g>\n",
              "<!-- 4536154736x&#45;&gt;4536154736 -->\n",
              "<g id=\"edge2\" class=\"edge\">\n",
              "<title>4536154736x&#45;&gt;4536154736</title>\n",
              "<path fill=\"none\" stroke=\"black\" d=\"M278.69,-46.5C286.1,-46.5 294.64,-46.5 303.71,-46.5\"/>\n",
              "<polygon fill=\"black\" stroke=\"black\" points=\"303.51,-50 313.51,-46.5 303.51,-43 303.51,-50\"/>\n",
              "</g>\n",
              "<!-- 4536148640 -->\n",
              "<g id=\"node6\" class=\"node\">\n",
              "<title>4536148640</title>\n",
              "<polygon fill=\"none\" stroke=\"black\" points=\"0,-56.5 0,-92.5 188.25,-92.5 188.25,-56.5 0,-56.5\"/>\n",
              "<text text-anchor=\"middle\" x=\"11.38\" y=\"-69.7\" font-family=\"Times,serif\" font-size=\"14.00\">b</text>\n",
              "<polyline fill=\"none\" stroke=\"black\" points=\"22.75,-57 22.75,-92.5\"/>\n",
              "<text text-anchor=\"middle\" x=\"64.88\" y=\"-69.7\" font-family=\"Times,serif\" font-size=\"14.00\">data &#45;3.0000</text>\n",
              "<polyline fill=\"none\" stroke=\"black\" points=\"107,-57 107,-92.5\"/>\n",
              "<text text-anchor=\"middle\" x=\"147.62\" y=\"-69.7\" font-family=\"Times,serif\" font-size=\"14.00\">grad 2.0000</text>\n",
              "</g>\n",
              "<!-- 4536148640&#45;&gt;4536154736x -->\n",
              "<g id=\"edge8\" class=\"edge\">\n",
              "<title>4536148640&#45;&gt;4536154736x</title>\n",
              "<path fill=\"none\" stroke=\"black\" d=\"M188.49,-57.65C197.36,-56.05 205.93,-54.5 213.73,-53.09\"/>\n",
              "<polygon fill=\"black\" stroke=\"black\" points=\"214.2,-56.56 223.42,-51.34 212.95,-49.68 214.2,-56.56\"/>\n",
              "</g>\n",
              "<!-- 4536155888 -->\n",
              "<g id=\"node7\" class=\"node\">\n",
              "<title>4536155888</title>\n",
              "<polygon fill=\"none\" stroke=\"black\" points=\"631.12,-0.5 631.12,-36.5 817.12,-36.5 817.12,-0.5 631.12,-0.5\"/>\n",
              "<text text-anchor=\"middle\" x=\"641.38\" y=\"-13.7\" font-family=\"Times,serif\" font-size=\"14.00\">f</text>\n",
              "<polyline fill=\"none\" stroke=\"black\" points=\"651.62,-1 651.62,-36.5\"/>\n",
              "<text text-anchor=\"middle\" x=\"693.75\" y=\"-13.7\" font-family=\"Times,serif\" font-size=\"14.00\">data &#45;2.0000</text>\n",
              "<polyline fill=\"none\" stroke=\"black\" points=\"735.88,-1 735.88,-36.5\"/>\n",
              "<text text-anchor=\"middle\" x=\"776.5\" y=\"-13.7\" font-family=\"Times,serif\" font-size=\"14.00\">grad 4.0000</text>\n",
              "</g>\n",
              "<!-- 4536155888&#45;&gt;4536154400x -->\n",
              "<g id=\"edge9\" class=\"edge\">\n",
              "<title>4536155888&#45;&gt;4536154400x</title>\n",
              "<path fill=\"none\" stroke=\"black\" d=\"M817.6,-34.6C826.76,-36.19 835.62,-37.73 843.67,-39.13\"/>\n",
              "<polygon fill=\"black\" stroke=\"black\" points=\"842.85,-42.54 853.3,-40.81 844.05,-35.65 842.85,-42.54\"/>\n",
              "</g>\n",
              "<!-- 4536154400 -->\n",
              "<g id=\"node8\" class=\"node\">\n",
              "<title>4536154400</title>\n",
              "<polygon fill=\"none\" stroke=\"black\" points=\"944.25,-27.5 944.25,-63.5 1134,-63.5 1134,-27.5 944.25,-27.5\"/>\n",
              "<text text-anchor=\"middle\" x=\"956.38\" y=\"-40.7\" font-family=\"Times,serif\" font-size=\"14.00\">L</text>\n",
              "<polyline fill=\"none\" stroke=\"black\" points=\"968.5,-28 968.5,-63.5\"/>\n",
              "<text text-anchor=\"middle\" x=\"1010.62\" y=\"-40.7\" font-family=\"Times,serif\" font-size=\"14.00\">data &#45;8.0000</text>\n",
              "<polyline fill=\"none\" stroke=\"black\" points=\"1052.75,-28 1052.75,-63.5\"/>\n",
              "<text text-anchor=\"middle\" x=\"1093.38\" y=\"-40.7\" font-family=\"Times,serif\" font-size=\"14.00\">grad 1.0000</text>\n",
              "</g>\n",
              "<!-- 4536154400x&#45;&gt;4536154400 -->\n",
              "<g id=\"edge3\" class=\"edge\">\n",
              "<title>4536154400x&#45;&gt;4536154400</title>\n",
              "<path fill=\"none\" stroke=\"black\" d=\"M908.69,-45.5C915.84,-45.5 924.03,-45.5 932.74,-45.5\"/>\n",
              "<polygon fill=\"black\" stroke=\"black\" points=\"932.51,-49 942.51,-45.5 932.51,-42 932.51,-49\"/>\n",
              "</g>\n",
              "<!-- 4531188608 -->\n",
              "<g id=\"node10\" class=\"node\">\n",
              "<title>4531188608</title>\n",
              "<polygon fill=\"none\" stroke=\"black\" points=\"0.38,-1.5 0.38,-37.5 187.88,-37.5 187.88,-1.5 0.38,-1.5\"/>\n",
              "<text text-anchor=\"middle\" x=\"11.38\" y=\"-14.7\" font-family=\"Times,serif\" font-size=\"14.00\">a</text>\n",
              "<polyline fill=\"none\" stroke=\"black\" points=\"22.38,-2 22.38,-37.5\"/>\n",
              "<text text-anchor=\"middle\" x=\"62.25\" y=\"-14.7\" font-family=\"Times,serif\" font-size=\"14.00\">data 2.0000</text>\n",
              "<polyline fill=\"none\" stroke=\"black\" points=\"102.12,-2 102.12,-37.5\"/>\n",
              "<text text-anchor=\"middle\" x=\"145\" y=\"-14.7\" font-family=\"Times,serif\" font-size=\"14.00\">grad &#45;3.0000</text>\n",
              "</g>\n",
              "<!-- 4531188608&#45;&gt;4536154736x -->\n",
              "<g id=\"edge4\" class=\"edge\">\n",
              "<title>4531188608&#45;&gt;4536154736x</title>\n",
              "<path fill=\"none\" stroke=\"black\" d=\"M188.05,-35.67C196.96,-37.22 205.59,-38.73 213.44,-40.09\"/>\n",
              "<polygon fill=\"black\" stroke=\"black\" points=\"212.76,-43.53 223.21,-41.79 213.96,-36.63 212.76,-43.53\"/>\n",
              "</g>\n",
              "</g>\n",
              "</svg>\n"
            ],
            "text/plain": [
              "<graphviz.graphs.Digraph at 0x10e603d40>"
            ]
          },
          "execution_count": 30,
          "metadata": {},
          "output_type": "execute_result"
        }
      ],
      "source": [
        "draw_dot(L)"
      ]
    },
    {
      "cell_type": "markdown",
      "metadata": {
        "id": "4LlsL7CrATwe"
      },
      "source": [
        "Now will use the chain rule to understand the imapct of very first inputs on the end results.\n",
        "\n",
        "dz/dx = dz/dy * dy/dx </br>\n",
        "\n",
        "dL/de = dL/dd * dd/de </br>\n",
        "dL/de = -2 * 1 = -2\n",
        "\n",
        "dL/db = dL/de * de/db </br>\n",
        "dL/de = 2 * 2 = -4\n",
        "\n",
        "what this means is if we nudge b by 1, the result will change by -6.\n",
        "      "
      ]
    },
    {
      "cell_type": "code",
      "execution_count": 31,
      "metadata": {
        "colab": {
          "base_uri": "https://localhost:8080/"
        },
        "id": "Zp2gLElg_hxT",
        "outputId": "e8e2f5a1-7d57-49af-c804-88311ba567d0"
      },
      "outputs": [
        {
          "name": "stdout",
          "output_type": "stream",
          "text": [
            "L1 value Value(data=-8.0)\n",
            "L2 value Value(data=-12.0)\n"
          ]
        }
      ],
      "source": [
        "h = 1\n",
        "\n",
        "a = Value(2.0, label='a')\n",
        "b = Value(-3.0, label='b')\n",
        "c = Value(10.0, label='c')\n",
        "e = a*b; e.label = 'e'\n",
        "d = e + c; d.label = 'd'\n",
        "f = Value(-2.0, label='f')\n",
        "L = d * f; L.label = 'L'\n",
        "L1 = L\n",
        "\n",
        "a = Value(2.0, label='a')\n",
        "b = Value(-3.0 + h, label='b')\n",
        "c = Value(10.0, label='c')\n",
        "e = a*b; e.label = 'e'\n",
        "d = e + c; d.label = 'd'\n",
        "f = Value(-2.0, label='f')\n",
        "L = d * f; L.label = 'L'\n",
        "L2 = L\n",
        "\n",
        "print(f\"L1 value {L1}\")\n",
        "print(f\"L2 value {L2}\")"
      ]
    },
    {
      "cell_type": "markdown",
      "metadata": {
        "id": "e91MhHZcD0Uz"
      },
      "source": [
        "We can also proof this by"
      ]
    },
    {
      "cell_type": "code",
      "execution_count": 32,
      "metadata": {
        "colab": {
          "base_uri": "https://localhost:8080/"
        },
        "id": "8HDE_Ob1CNhS",
        "outputId": "a348ecbd-3895-4361-a229-4d84d518e623"
      },
      "outputs": [
        {
          "data": {
            "text/plain": [
              "-4.0"
            ]
          },
          "execution_count": 32,
          "metadata": {},
          "output_type": "execute_result"
        }
      ],
      "source": [
        "(L2.data - L1.data) / h"
      ]
    }
  ],
  "metadata": {
    "accelerator": "TPU",
    "colab": {
      "authorship_tag": "ABX9TyOr7ksr0DfA68UChO6prD82",
      "gpuType": "V28",
      "include_colab_link": true,
      "provenance": []
    },
    "kernelspec": {
      "display_name": "dnn-fundementals",
      "language": "python",
      "name": "python3"
    },
    "language_info": {
      "codemirror_mode": {
        "name": "ipython",
        "version": 3
      },
      "file_extension": ".py",
      "mimetype": "text/x-python",
      "name": "python",
      "nbconvert_exporter": "python",
      "pygments_lexer": "ipython3",
      "version": "3.12.4"
    }
  },
  "nbformat": 4,
  "nbformat_minor": 0
}
