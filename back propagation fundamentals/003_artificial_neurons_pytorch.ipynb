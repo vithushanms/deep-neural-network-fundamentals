{
 "cells": [
  {
   "cell_type": "code",
   "execution_count": 2,
   "metadata": {},
   "outputs": [],
   "source": [
    "import matplotlib.pyplot as plt\n",
    "import numpy as np\n",
    "from graphviz import Digraph\n",
    "import torch # pytorch library "
   ]
  },
  {
   "cell_type": "code",
   "execution_count": null,
   "metadata": {},
   "outputs": [],
   "source": [
    "x1 = torch.Tensor([2.0]).double(); x1.requires_grad = True\n",
    "x2 = torch.Tensor([0.0]).double(); x2.requires_grad = True\n",
    "w1 = torch.Tensor([-3.0]).double(); w1.requires_grad = True\n",
    "w2 = torch.Tensor([1.0]).double(); w2.requires_grad = True\n",
    "b = torch.Tensor([6.88137]).double(); b.requires_grad = True\n",
    "n = x1*w1 + x2*w2 + b\n",
    "y = torch.sigmoid(n)\n",
    "print(\"output y = \", y.data.item())\n",
    "y.backward()\n",
    "\n",
    "print(\"gradient of x1 = \", x1.grad.data.item())\n",
    "print(\"gradient of x2 = \", x2.grad.data.item())\n",
    "print(\"gradient of w1 = \", w1.grad.data.item())\n",
    "print(\"gradient of w2 = \", w2.grad.data.item())"
   ]
  }
 ],
 "metadata": {
  "kernelspec": {
   "display_name": "dnn-fundementals",
   "language": "python",
   "name": "python3"
  },
  "language_info": {
   "codemirror_mode": {
    "name": "ipython",
    "version": 3
   },
   "file_extension": ".py",
   "mimetype": "text/x-python",
   "name": "python",
   "nbconvert_exporter": "python",
   "pygments_lexer": "ipython3",
   "version": "3.12.4"
  }
 },
 "nbformat": 4,
 "nbformat_minor": 2
}
